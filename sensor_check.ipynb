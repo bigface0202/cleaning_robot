{
 "cells": [
  {
   "cell_type": "code",
   "execution_count": 6,
   "metadata": {},
   "outputs": [],
   "source": [
    "import wiringpi\n",
    "import time"
   ]
  },
  {
   "cell_type": "code",
   "execution_count": 7,
   "metadata": {},
   "outputs": [],
   "source": [
    "# Ultrasonic sensor GPIO number\n",
    "TRIG = 16\n",
    "ECHO = 17"
   ]
  },
  {
   "cell_type": "code",
   "execution_count": 8,
   "metadata": {},
   "outputs": [],
   "source": [
    "wiringpi.wiringPiSetupGpio()\n",
    "wiringpi.pinMode(TRIG, wiringpi.OUTPUT)\n",
    "wiringpi.pinMode(ECHO, wiringpi.INPUT)"
   ]
  },
  {
   "cell_type": "code",
   "execution_count": 9,
   "metadata": {},
   "outputs": [],
   "source": [
    "def read_distance():\n",
    "    wiringpi.digitalWrite(TRIG, wiringpi.GPIO.HIGH)\n",
    "    # Wait 10 micor sec.\n",
    "    time.sleep(0.00001)\n",
    "    wiringpi.digitalWrite(TRIG, wiringpi.GPIO.LOW)\n",
    "\n",
    "    signalOff = 0\n",
    "    signalOn = 0\n",
    "\n",
    "    while wiringpi.digitalRead(ECHO) == wiringpi.GPIO.LOW:\n",
    "        signalOff = time.time()\n",
    "\n",
    "    while wiringpi.digitalRead(ECHO) == wiringpi.GPIO.HIGH:\n",
    "        signalOn = time.time()\n",
    "\n",
    "    duration = signalOn - signalOff\n",
    "    distance = duration * 34000 / 2\n",
    "\n",
    "    return distance"
   ]
  },
  {
   "cell_type": "code",
   "execution_count": 9,
   "metadata": {},
   "outputs": [
    {
     "name": "stdout",
     "output_type": "stream",
     "text": [
      "distance=-8.503437042236328\n",
      "distance=-11.948585510253906\n",
      "distance=-11.932373046875\n",
      "distance=-11.989116668701172\n",
      "distance=-11.94453239440918\n",
      "distance=-5.159616470336914\n",
      "distance=-5.601406097412109\n",
      "distance=-6.035089492797852\n",
      "distance=-11.527061462402344\n",
      "distance=-11.936426162719727\n",
      "distance=-20.253419876098633\n",
      "distance=-20.265579223632812\n",
      "distance=-20.253419876098633\n",
      "distance=-64.1324520111084\n",
      "distance=-72.08466529846191\n",
      "distance=-50.57072639465332\n",
      "distance=-415.01474380493164\n",
      "distance=-49.52502250671387\n",
      "distance=-30.447006225585938\n",
      "distance=-19.268512725830078\n",
      "distance=-26.284456253051758\n",
      "distance=-29.137849807739258\n",
      "distance=-29.932260513305664\n",
      "distance=-30.357837677001953\n",
      "distance=-29.93631362915039\n",
      "distance=-29.940366744995117\n",
      "distance=-29.952526092529297\n",
      "distance=-29.903888702392578\n",
      "distance=-29.531002044677734\n",
      "distance=-29.92415428161621\n",
      "distance=-29.980897903442383\n",
      "distance=-29.952526092529297\n",
      "distance=-116.0731315612793\n",
      "distance=-32.206058502197266\n",
      "distance=-33.008575439453125\n",
      "distance=-63.654184341430664\n",
      "distance=-64.87417221069336\n",
      "distance=-31.156301498413086\n",
      "distance=-32.03177452087402\n",
      "distance=-32.44519233703613\n",
      "distance=-32.4249267578125\n",
      "distance=-31.9669246673584\n",
      "distance=-33.28418731689453\n",
      "distance=-45.78804969787598\n",
      "distance=-45.26519775390625\n",
      "distance=-45.119285583496094\n",
      "distance=-69.22721862792969\n",
      "distance=-65.27137756347656\n",
      "distance=-66.27655029296875\n",
      "distance=-65.3524398803711\n",
      "distance=-66.4224624633789\n",
      "distance=-67.72351264953613\n"
     ]
    }
   ],
   "source": [
    "while True:\n",
    "    try:\n",
    "        distance = read_distance()\n",
    "        print(\"distance={}\".format(distance))\n",
    "        time.sleep(1)\n",
    "\n",
    "    except KeyboardInterrupt:\n",
    "        exit"
   ]
  },
  {
   "cell_type": "code",
   "execution_count": 10,
   "metadata": {},
   "outputs": [
    {
     "name": "stdout",
     "output_type": "stream",
     "text": [
      "distance=20.289897918701172\n"
     ]
    }
   ],
   "source": [
    "distance = read_distance()\n",
    "print(\"distance={}\".format(distance))"
   ]
  },
  {
   "cell_type": "code",
   "execution_count": 4,
   "metadata": {},
   "outputs": [
    {
     "ename": "PermissionError",
     "evalue": "[Errno 13] Permission denied: '/dev/i2c-1'",
     "output_type": "error",
     "traceback": [
      "\u001b[0;31m---------------------------------------------------------------------------\u001b[0m",
      "\u001b[0;31mPermissionError\u001b[0m                           Traceback (most recent call last)",
      "\u001b[0;32m/tmp/ipykernel_10969/4080647985.py\u001b[0m in \u001b[0;36m<module>\u001b[0;34m\u001b[0m\n\u001b[1;32m      1\u001b[0m \u001b[0;31m# Create the I2C bus\u001b[0m\u001b[0;34m\u001b[0m\u001b[0;34m\u001b[0m\u001b[0;34m\u001b[0m\u001b[0m\n\u001b[0;32m----> 2\u001b[0;31m \u001b[0mi2c\u001b[0m \u001b[0;34m=\u001b[0m \u001b[0mbusio\u001b[0m\u001b[0;34m.\u001b[0m\u001b[0mI2C\u001b[0m\u001b[0;34m(\u001b[0m\u001b[0mboard\u001b[0m\u001b[0;34m.\u001b[0m\u001b[0mSCL\u001b[0m\u001b[0;34m,\u001b[0m \u001b[0mboard\u001b[0m\u001b[0;34m.\u001b[0m\u001b[0mSDA\u001b[0m\u001b[0;34m)\u001b[0m\u001b[0;34m\u001b[0m\u001b[0;34m\u001b[0m\u001b[0m\n\u001b[0m\u001b[1;32m      3\u001b[0m \u001b[0;34m\u001b[0m\u001b[0m\n\u001b[1;32m      4\u001b[0m \u001b[0;31m# Create the ADC object using the I2C bus\u001b[0m\u001b[0;34m\u001b[0m\u001b[0;34m\u001b[0m\u001b[0;34m\u001b[0m\u001b[0m\n\u001b[1;32m      5\u001b[0m \u001b[0mads\u001b[0m \u001b[0;34m=\u001b[0m \u001b[0mADS\u001b[0m\u001b[0;34m.\u001b[0m\u001b[0mADS1015\u001b[0m\u001b[0;34m(\u001b[0m\u001b[0mi2c\u001b[0m\u001b[0;34m)\u001b[0m\u001b[0;34m\u001b[0m\u001b[0;34m\u001b[0m\u001b[0m\n",
      "\u001b[0;32m~/.local/lib/python3.8/site-packages/busio.py\u001b[0m in \u001b[0;36m__init__\u001b[0;34m(self, scl, sda, frequency)\u001b[0m\n\u001b[1;32m     30\u001b[0m \u001b[0;34m\u001b[0m\u001b[0m\n\u001b[1;32m     31\u001b[0m     \u001b[0;32mdef\u001b[0m \u001b[0m__init__\u001b[0m\u001b[0;34m(\u001b[0m\u001b[0mself\u001b[0m\u001b[0;34m,\u001b[0m \u001b[0mscl\u001b[0m\u001b[0;34m,\u001b[0m \u001b[0msda\u001b[0m\u001b[0;34m,\u001b[0m \u001b[0mfrequency\u001b[0m\u001b[0;34m=\u001b[0m\u001b[0;36m100000\u001b[0m\u001b[0;34m)\u001b[0m\u001b[0;34m:\u001b[0m\u001b[0;34m\u001b[0m\u001b[0;34m\u001b[0m\u001b[0m\n\u001b[0;32m---> 32\u001b[0;31m         \u001b[0mself\u001b[0m\u001b[0;34m.\u001b[0m\u001b[0minit\u001b[0m\u001b[0;34m(\u001b[0m\u001b[0mscl\u001b[0m\u001b[0;34m,\u001b[0m \u001b[0msda\u001b[0m\u001b[0;34m,\u001b[0m \u001b[0mfrequency\u001b[0m\u001b[0;34m)\u001b[0m\u001b[0;34m\u001b[0m\u001b[0;34m\u001b[0m\u001b[0m\n\u001b[0m\u001b[1;32m     33\u001b[0m \u001b[0;34m\u001b[0m\u001b[0m\n\u001b[1;32m     34\u001b[0m     \u001b[0;32mdef\u001b[0m \u001b[0minit\u001b[0m\u001b[0;34m(\u001b[0m\u001b[0mself\u001b[0m\u001b[0;34m,\u001b[0m \u001b[0mscl\u001b[0m\u001b[0;34m,\u001b[0m \u001b[0msda\u001b[0m\u001b[0;34m,\u001b[0m \u001b[0mfrequency\u001b[0m\u001b[0;34m)\u001b[0m\u001b[0;34m:\u001b[0m\u001b[0;34m\u001b[0m\u001b[0;34m\u001b[0m\u001b[0m\n",
      "\u001b[0;32m~/.local/lib/python3.8/site-packages/busio.py\u001b[0m in \u001b[0;36minit\u001b[0;34m(self, scl, sda, frequency)\u001b[0m\n\u001b[1;32m    112\u001b[0m                 \u001b[0;31m# pylint: disable=unexpected-keyword-arg\u001b[0m\u001b[0;34m\u001b[0m\u001b[0;34m\u001b[0m\u001b[0;34m\u001b[0m\u001b[0m\n\u001b[1;32m    113\u001b[0m                 \u001b[0;32mif\u001b[0m \u001b[0mscl\u001b[0m \u001b[0;34m==\u001b[0m \u001b[0mportScl\u001b[0m \u001b[0;32mand\u001b[0m \u001b[0msda\u001b[0m \u001b[0;34m==\u001b[0m \u001b[0mportSda\u001b[0m\u001b[0;34m:\u001b[0m\u001b[0;34m\u001b[0m\u001b[0;34m\u001b[0m\u001b[0m\n\u001b[0;32m--> 114\u001b[0;31m                     \u001b[0mself\u001b[0m\u001b[0;34m.\u001b[0m\u001b[0m_i2c\u001b[0m \u001b[0;34m=\u001b[0m \u001b[0m_I2C\u001b[0m\u001b[0;34m(\u001b[0m\u001b[0mportId\u001b[0m\u001b[0;34m,\u001b[0m \u001b[0mmode\u001b[0m\u001b[0;34m=\u001b[0m\u001b[0m_I2C\u001b[0m\u001b[0;34m.\u001b[0m\u001b[0mMASTER\u001b[0m\u001b[0;34m,\u001b[0m \u001b[0mbaudrate\u001b[0m\u001b[0;34m=\u001b[0m\u001b[0mfrequency\u001b[0m\u001b[0;34m)\u001b[0m\u001b[0;34m\u001b[0m\u001b[0;34m\u001b[0m\u001b[0m\n\u001b[0m\u001b[1;32m    115\u001b[0m                     \u001b[0;32mbreak\u001b[0m\u001b[0;34m\u001b[0m\u001b[0;34m\u001b[0m\u001b[0m\n\u001b[1;32m    116\u001b[0m                 \u001b[0;31m# pylint: enable=unexpected-keyword-arg\u001b[0m\u001b[0;34m\u001b[0m\u001b[0;34m\u001b[0m\u001b[0;34m\u001b[0m\u001b[0m\n",
      "\u001b[0;32m~/.local/lib/python3.8/site-packages/adafruit_blinka/microcontroller/generic_linux/i2c.py\u001b[0m in \u001b[0;36m__init__\u001b[0;34m(self, bus_num, mode, baudrate)\u001b[0m\n\u001b[1;32m     22\u001b[0m \u001b[0;34m\u001b[0m\u001b[0m\n\u001b[1;32m     23\u001b[0m         \u001b[0;32mtry\u001b[0m\u001b[0;34m:\u001b[0m\u001b[0;34m\u001b[0m\u001b[0;34m\u001b[0m\u001b[0m\n\u001b[0;32m---> 24\u001b[0;31m             \u001b[0mself\u001b[0m\u001b[0;34m.\u001b[0m\u001b[0m_i2c_bus\u001b[0m \u001b[0;34m=\u001b[0m \u001b[0msmbus\u001b[0m\u001b[0;34m.\u001b[0m\u001b[0mSMBus\u001b[0m\u001b[0;34m(\u001b[0m\u001b[0mbus_num\u001b[0m\u001b[0;34m)\u001b[0m\u001b[0;34m\u001b[0m\u001b[0;34m\u001b[0m\u001b[0m\n\u001b[0m\u001b[1;32m     25\u001b[0m         \u001b[0;32mexcept\u001b[0m \u001b[0mFileNotFoundError\u001b[0m\u001b[0;34m:\u001b[0m\u001b[0;34m\u001b[0m\u001b[0;34m\u001b[0m\u001b[0m\n\u001b[1;32m     26\u001b[0m             raise RuntimeError(\n",
      "\u001b[0;32m~/.local/lib/python3.8/site-packages/Adafruit_PureIO/smbus.py\u001b[0m in \u001b[0;36m__init__\u001b[0;34m(self, bus)\u001b[0m\n\u001b[1;32m    123\u001b[0m         \u001b[0mself\u001b[0m\u001b[0;34m.\u001b[0m\u001b[0m_device\u001b[0m \u001b[0;34m=\u001b[0m \u001b[0;32mNone\u001b[0m\u001b[0;34m\u001b[0m\u001b[0;34m\u001b[0m\u001b[0m\n\u001b[1;32m    124\u001b[0m         \u001b[0;32mif\u001b[0m \u001b[0mbus\u001b[0m \u001b[0;32mis\u001b[0m \u001b[0;32mnot\u001b[0m \u001b[0;32mNone\u001b[0m\u001b[0;34m:\u001b[0m\u001b[0;34m\u001b[0m\u001b[0;34m\u001b[0m\u001b[0m\n\u001b[0;32m--> 125\u001b[0;31m             \u001b[0mself\u001b[0m\u001b[0;34m.\u001b[0m\u001b[0mopen\u001b[0m\u001b[0;34m(\u001b[0m\u001b[0mbus\u001b[0m\u001b[0;34m)\u001b[0m\u001b[0;34m\u001b[0m\u001b[0;34m\u001b[0m\u001b[0m\n\u001b[0m\u001b[1;32m    126\u001b[0m \u001b[0;34m\u001b[0m\u001b[0m\n\u001b[1;32m    127\u001b[0m     \u001b[0;32mdef\u001b[0m \u001b[0m__del__\u001b[0m\u001b[0;34m(\u001b[0m\u001b[0mself\u001b[0m\u001b[0;34m)\u001b[0m\u001b[0;34m:\u001b[0m\u001b[0;34m\u001b[0m\u001b[0;34m\u001b[0m\u001b[0m\n",
      "\u001b[0;32m~/.local/lib/python3.8/site-packages/Adafruit_PureIO/smbus.py\u001b[0m in \u001b[0;36mopen\u001b[0;34m(self, bus)\u001b[0m\n\u001b[1;32m    149\u001b[0m         \u001b[0;31m# or else Python 3 fails (see: https://bugs.python.org/issue20074)\u001b[0m\u001b[0;34m\u001b[0m\u001b[0;34m\u001b[0m\u001b[0;34m\u001b[0m\u001b[0m\n\u001b[1;32m    150\u001b[0m         \u001b[0;31m# pylint: disable=consider-using-with\u001b[0m\u001b[0;34m\u001b[0m\u001b[0;34m\u001b[0m\u001b[0;34m\u001b[0m\u001b[0m\n\u001b[0;32m--> 151\u001b[0;31m         \u001b[0mself\u001b[0m\u001b[0;34m.\u001b[0m\u001b[0m_device\u001b[0m \u001b[0;34m=\u001b[0m \u001b[0mopen\u001b[0m\u001b[0;34m(\u001b[0m\u001b[0;34m\"/dev/i2c-{0}\"\u001b[0m\u001b[0;34m.\u001b[0m\u001b[0mformat\u001b[0m\u001b[0;34m(\u001b[0m\u001b[0mbus\u001b[0m\u001b[0;34m)\u001b[0m\u001b[0;34m,\u001b[0m \u001b[0;34m\"r+b\"\u001b[0m\u001b[0;34m,\u001b[0m \u001b[0mbuffering\u001b[0m\u001b[0;34m=\u001b[0m\u001b[0;36m0\u001b[0m\u001b[0;34m)\u001b[0m\u001b[0;34m\u001b[0m\u001b[0;34m\u001b[0m\u001b[0m\n\u001b[0m\u001b[1;32m    152\u001b[0m         \u001b[0;31m# pylint: enable=consider-using-with\u001b[0m\u001b[0;34m\u001b[0m\u001b[0;34m\u001b[0m\u001b[0;34m\u001b[0m\u001b[0m\n\u001b[1;32m    153\u001b[0m         \u001b[0;31m# TODO: Catch IOError and throw a better error message that describes\u001b[0m\u001b[0;34m\u001b[0m\u001b[0;34m\u001b[0m\u001b[0;34m\u001b[0m\u001b[0m\n",
      "\u001b[0;31mPermissionError\u001b[0m: [Errno 13] Permission denied: '/dev/i2c-1'"
     ]
    }
   ],
   "source": [
    "# Create the I2C bus\n",
    "i2c = busio.I2C(board.SCL, board.SDA)\n",
    "\n",
    "# Create the ADC object using the I2C bus\n",
    "ads = ADS.ADS1015(i2c)\n",
    "\n",
    "# Create single-ended input on channel 0\n",
    "moist = AnalogIn(ads, ADS.P0)"
   ]
  },
  {
   "cell_type": "code",
   "execution_count": null,
   "metadata": {},
   "outputs": [],
   "source": []
  }
 ],
 "metadata": {
  "interpreter": {
   "hash": "5b3ded1ccb95c1d9bd405e7b823d9e85424cde40fbb5985eb47e999ef50e15b4"
  },
  "kernelspec": {
   "display_name": "Python 3.8.10 64-bit",
   "name": "python3"
  },
  "language_info": {
   "codemirror_mode": {
    "name": "ipython",
    "version": 3
   },
   "file_extension": ".py",
   "mimetype": "text/x-python",
   "name": "python",
   "nbconvert_exporter": "python",
   "pygments_lexer": "ipython3",
   "version": "3.8.10"
  },
  "orig_nbformat": 4
 },
 "nbformat": 4,
 "nbformat_minor": 2
}
